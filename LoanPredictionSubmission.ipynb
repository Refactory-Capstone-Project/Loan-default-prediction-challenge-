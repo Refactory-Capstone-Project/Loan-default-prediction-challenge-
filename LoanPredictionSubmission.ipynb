{
  "nbformat": 4,
  "nbformat_minor": 0,
  "metadata": {
    "colab": {
      "provenance": [],
      "authorship_tag": "ABX9TyMYkh3e9qL0VJmpjRK8bEpf"
    },
    "kernelspec": {
      "name": "python3",
      "display_name": "Python 3"
    },
    "language_info": {
      "name": "python"
    }
  },
  "cells": [
    {
      "cell_type": "code",
      "source": [
        "!pip install pandas-profiling xgboost gradio"
      ],
      "metadata": {
        "id": "0ByiR3KtjDLN"
      },
      "execution_count": null,
      "outputs": []
    },
    {
      "cell_type": "code",
      "execution_count": null,
      "metadata": {
        "id": "CgkEgsdWFtuj"
      },
      "outputs": [],
      "source": [
        "import pandas as pd\n",
        "import numpy as np\n",
        "import matplotlib.pyplot as plt\n",
        "import seaborn as sns\n",
        "import joblib\n",
        "\n",
        "from sklearn.model_selection import train_test_split\n",
        "from sklearn.preprocessing import StandardScaler\n",
        "from sklearn.metrics import confusion_matrix, accuracy_score\n",
        "from sklearn.metrics import classification_report\n",
        "from ydata_profiling import ProfileReport\n",
        "from sklearn.preprocessing import LabelEncoder"
      ]
    },
    {
      "cell_type": "code",
      "source": [
        "!wget https://github.com/Refactory-Capstone-Project/Loan-default-prediction-challenge-/raw/main/Loan_Prediction.zip"
      ],
      "metadata": {
        "id": "UFmWU1hwkfik"
      },
      "execution_count": null,
      "outputs": []
    },
    {
      "cell_type": "code",
      "source": [
        "!unzip /content/Loan_Prediction.zip"
      ],
      "metadata": {
        "id": "-ZJ0kCKcGliw"
      },
      "execution_count": null,
      "outputs": []
    },
    {
      "cell_type": "markdown",
      "source": [
        "# Demographic data (traindemographics.csv)"
      ],
      "metadata": {
        "id": "SjsdlJ0sJ8HQ"
      }
    },
    {
      "cell_type": "code",
      "source": [
        "train_demo = pd.read_csv(\"/content/traindemographics.csv\")\n",
        "train_demo.head()"
      ],
      "metadata": {
        "id": "Hnx1ivtFlAJd"
      },
      "execution_count": null,
      "outputs": []
    },
    {
      "cell_type": "code",
      "source": [
        "train_demo.dtypes"
      ],
      "metadata": {
        "id": "UySrguyIlUcU"
      },
      "execution_count": null,
      "outputs": []
    },
    {
      "cell_type": "code",
      "source": [
        "train_demo[train_demo['customerid'].duplicated(keep=False)].sort_values('customerid')"
      ],
      "metadata": {
        "id": "x4Pjdv3pJugX"
      },
      "execution_count": null,
      "outputs": []
    },
    {
      "cell_type": "code",
      "source": [
        "train_demo = train_demo.drop_duplicates(subset='customerid', keep='first', inplace=False)"
      ],
      "metadata": {
        "id": "bEfVO0oSL5Dv"
      },
      "execution_count": null,
      "outputs": []
    },
    {
      "cell_type": "code",
      "source": [
        "train_demo['birthdate'] = pd.to_datetime(train_demo['birthdate'])\n",
        "\n",
        "train_demo[\"birthdate_year\"] = pd.to_datetime(train_demo[\"birthdate\"]).dt.year\n",
        "train_demo[\"birthdate_month\"] = pd.to_datetime(train_demo[\"birthdate\"]).dt.month\n",
        "train_demo[\"birthdate_day\"] = pd.to_datetime(train_demo[\"birthdate\"]).dt.day\n",
        "train_demo.dtypes"
      ],
      "metadata": {
        "id": "dXfRT94MqHku"
      },
      "execution_count": null,
      "outputs": []
    },
    {
      "cell_type": "code",
      "source": [
        "train_demo['bank_account_type'].value_counts()"
      ],
      "metadata": {
        "id": "rQF6NmiMMjhD"
      },
      "execution_count": null,
      "outputs": []
    },
    {
      "cell_type": "code",
      "source": [
        "encoder = LabelEncoder()\n",
        "train_demo['bank_account_type'] = encoder.fit_transform(train_demo['bank_account_type'])\n",
        "train_demo[['bank_account_type']]"
      ],
      "metadata": {
        "id": "wNzpLK_E7Z8F"
      },
      "execution_count": null,
      "outputs": []
    },
    {
      "source": [
        "\n",
        "_df_0['bank_account_type'].plot(kind='hist', bins=20, title='bank_account_type')\n",
        "plt.gca().spines[['top', 'right',]].set_visible(False)"
      ],
      "cell_type": "code",
      "metadata": {
        "id": "W-TUTR2xFZdR"
      },
      "execution_count": null,
      "outputs": []
    },
    {
      "cell_type": "markdown",
      "source": [
        "Based off of the graph. We can see that Savings is represented by '2', Other is represented by '1' and Current is represented by 0"
      ],
      "metadata": {
        "id": "91OooL1QFhcP"
      }
    },
    {
      "cell_type": "code",
      "source": [
        "train_demo['longitude_gps'].describe()\n"
      ],
      "metadata": {
        "id": "u-0odkOBIHex"
      },
      "execution_count": null,
      "outputs": []
    },
    {
      "cell_type": "code",
      "source": [
        "train_demo['longitude_gps'] = train_demo['longitude_gps'].astype(float)\n",
        "plt.boxplot(train_demo['longitude_gps'])\n",
        "plt.title('Box Plot')\n",
        "plt.ylabel('longitude_gps')\n",
        "plt.show()"
      ],
      "metadata": {
        "id": "vfSKX1upGDp_",
        "outputId": "48332027-5f45-41b1-d00d-32c90a996a6d",
        "colab": {
          "base_uri": "https://localhost:8080/",
          "height": 452
        }
      },
      "execution_count": null,
      "outputs": [
        {
          "output_type": "display_data",
          "data": {
            "text/plain": [
              "<Figure size 640x480 with 1 Axes>"
            ],
            "image/png": "[encoded data removed]"
          },
          "metadata": {}
        }
      ]
    },
    {
      "cell_type": "code",
      "source": [
        "# Define the threshold for outliers (e.g., 3 standard deviations away from the mean)\n",
        "threshold = 3 * std_dev"
      ],
      "metadata": {
        "id": "uo-EW3tAJbXH"
      },
      "execution_count": null,
      "outputs": []
    },
    {
      "cell_type": "markdown",
      "source": [
        "The Box plot shows the column has many outliers and they can be replaced with zero"
      ],
      "metadata": {
        "id": "DxAmqDJWHg7P"
      }
    },
    {
      "cell_type": "markdown",
      "source": [
        "# Performance data (trainperf.csv)\n",
        "\n",
        "This is the repeat loan that the customer has taken for which we need to predict the performance of. Basically, we need to predict if whether this loan would default given all previous loans and demographics of a customer"
      ],
      "metadata": {
        "id": "4v4MyvyuKEdf"
      }
    },
    {
      "cell_type": "code",
      "source": [
        "train_perf = pd.read_csv('/content/trainperf.csv')\n",
        "train_perf.head()"
      ],
      "metadata": {
        "id": "n5r1yT5Q_gIc"
      },
      "execution_count": null,
      "outputs": []
    },
    {
      "cell_type": "markdown",
      "source": [
        "# Previous loans data (trainprevloans.csv)\n",
        "\n",
        "This dataset contains all previous loans that the customer had prior to the loan above that we want to predict the performance of. Each loan will have a different systemloanid, but the same customerid for each customer."
      ],
      "metadata": {
        "id": "JnIzaQMVKTO2"
      }
    },
    {
      "cell_type": "code",
      "source": [
        "train_prevloans = pd.read_csv('/content/trainprevloans.csv')\n",
        "train_prevloans.head()"
      ],
      "metadata": {
        "id": "tsffTyWiJeuw"
      },
      "execution_count": null,
      "outputs": []
    }
  ]
}